{
 "cells": [
  {
   "cell_type": "code",
   "execution_count": 1,
   "metadata": {
    "collapsed": true
   },
   "outputs": [],
   "source": [
    "import numpy as np"
   ]
  },
  {
   "cell_type": "code",
   "execution_count": 8,
   "outputs": [
    {
     "name": "stdout",
     "output_type": "stream",
     "text": [
      "[1. 2. 3.]\n",
      "<class 'numpy.ndarray'>\n"
     ]
    }
   ],
   "source": [
    "# We can create numpy array using np.array\n",
    "a = np.array([1, 2, 3], float)\n",
    "print(a)\n",
    "print(type(a))"
   ],
   "metadata": {
    "collapsed": false
   }
  },
  {
   "cell_type": "code",
   "execution_count": 9,
   "outputs": [
    {
     "name": "stdout",
     "output_type": "stream",
     "text": [
      "[1.0, 2.0, 3.0]\n",
      "<class 'list'>\n"
     ]
    }
   ],
   "source": [
    "# We can revert changes and create python array using np.array\n",
    "a = a.tolist()\n",
    "print(a)\n",
    "print(type(a))"
   ],
   "metadata": {
    "collapsed": false
   }
  },
  {
   "cell_type": "code",
   "execution_count": 20,
   "outputs": [
    {
     "name": "stdout",
     "output_type": "stream",
     "text": [
      "[[1 2 3]\n",
      " [4 5 6]]\n",
      "\n",
      "[1 2 3]\n",
      "[1 4]\n"
     ]
    }
   ],
   "source": [
    "# Creating multi dimensional arrays\n",
    "a = np.array([[1, 2, 3], [4, 5, 6]], int)\n",
    "print(a, end='\\n\\n')\n",
    "\n",
    "# Array slicing in python\n",
    "print(a[0, :])\n",
    "print(a[:, 0])"
   ],
   "metadata": {
    "collapsed": false
   }
  },
  {
   "cell_type": "code",
   "execution_count": 24,
   "outputs": [
    {
     "name": "stdout",
     "output_type": "stream",
     "text": [
      "(2, 3)\n",
      "int64\n"
     ]
    }
   ],
   "source": [
    "# Array features\n",
    "print(a.shape)\n",
    "print(a.dtype)"
   ],
   "metadata": {
    "collapsed": false
   }
  },
  {
   "cell_type": "code",
   "execution_count": 43,
   "outputs": [
    {
     "name": "stdout",
     "output_type": "stream",
     "text": [
      "[[1 2]\n",
      " [3 4]\n",
      " [5 6]]\n",
      "\n",
      "[1 2 3 4 5 6]\n"
     ]
    }
   ],
   "source": [
    "# Array reshaping\n",
    "print(a.reshape(3, 2), end='\\n\\n')\n",
    "print(a.flatten())"
   ],
   "metadata": {
    "collapsed": false
   }
  },
  {
   "cell_type": "code",
   "execution_count": 57,
   "outputs": [
    {
     "name": "stdout",
     "output_type": "stream",
     "text": [
      "[0 1 2 3 4]\n",
      "\n",
      "[0 2]\n",
      "\n",
      "[[1 1 1]\n",
      " [1 1 1]]\n",
      "\n",
      "[[0 0 0]\n",
      " [0 0 0]]\n",
      "\n",
      "[[1 0 0 0]\n",
      " [0 1 0 0]\n",
      " [0 0 1 0]\n",
      " [0 0 0 1]]\n",
      "\n",
      "[[0. 0. 1. 0.]\n",
      " [0. 0. 0. 1.]\n",
      " [0. 0. 0. 0.]\n",
      " [0. 0. 0. 0.]]\n",
      "\n"
     ]
    }
   ],
   "source": [
    "# Creating arrays using numpy functions\n",
    "print(np.arange(5), end = '\\n\\n')\n",
    "print(np.arange(0, 4, 2), end = '\\n\\n')\n",
    "\n",
    "print(np.ones((2, 3), int), end = '\\n\\n')\n",
    "print(np.zeros((2, 3), int), end = '\\n\\n')\n",
    "\n",
    "print(np.identity(4, int), end = '\\n\\n')\n",
    "print(np.eye(4, k=2), end = '\\n\\n')"
   ],
   "metadata": {
    "collapsed": false
   }
  },
  {
   "cell_type": "code",
   "execution_count": 58,
   "outputs": [
    {
     "name": "stdout",
     "output_type": "stream",
     "text": [
      "3\n",
      "5\n",
      "4\n",
      "8\n",
      "7\n",
      "9\n"
     ]
    }
   ],
   "source": [
    "# A bit of training\n",
    "a = np.array([[3, 5], [4, 8], [7, 9]], int)\n",
    "for x in range(a.shape[0]):\n",
    "    for y in range(a.shape[1]):\n",
    "        print(a[x, y])"
   ],
   "metadata": {
    "collapsed": false
   }
  },
  {
   "cell_type": "code",
   "execution_count": 72,
   "outputs": [
    {
     "name": "stdout",
     "output_type": "stream",
     "text": [
      "Source:\n",
      "[ 1  2  3  4  5  6  7  8  9 10]\n",
      "[ 1  3  5  7  9 11 13 15 17 19]\n",
      "\n",
      "a + b, a - b:\n",
      "[ 2  5  8 11 14 17 20 23 26 29]\n",
      "[ 0 -1 -2 -3 -4 -5 -6 -7 -8 -9]\n",
      "\n",
      "a * b, a / b:\n",
      "[  1   6  15  28  45  66  91 120 153 190]\n",
      "[1.         0.66666667 0.6        0.57142857 0.55555556 0.54545455\n",
      " 0.53846154 0.53333333 0.52941176 0.52631579]\n",
      "\n",
      "a % b, a // b:\n",
      "[ 0  2  3  4  5  6  7  8  9 10]\n",
      "[1 0 0 0 0 0 0 0 0 0]\n",
      "\n",
      "a ** b:\n",
      "[                   1                    8                  243\n",
      "                16384              1953125            362797056\n",
      "          96889010407       35184372088832    16677181699666569\n",
      " -8446744073709551616]\n",
      "\n"
     ]
    }
   ],
   "source": [
    "# Math operations on arrays\n",
    "a = np.arange(1, 11)\n",
    "b = np.arange(1, 20, 2)\n",
    "print(\"Source:\", a, b, sep='\\n', end='\\n\\n')\n",
    "\n",
    "print(\"a + b, a - b:\", a + b, a - b, sep='\\n', end='\\n\\n')\n",
    "print(\"a * b, a / b:\", a * b, a / b, sep='\\n', end='\\n\\n')\n",
    "print(\"a % b, a // b:\", a % b, a // b, sep='\\n', end='\\n\\n')\n",
    "print(\"a ** b:\", a ** b, sep='\\n', end='\\n\\n')"
   ],
   "metadata": {
    "collapsed": false
   }
  },
  {
   "cell_type": "code",
   "execution_count": 82,
   "outputs": [
    {
     "name": "stdout",
     "output_type": "stream",
     "text": [
      "[3.16227766 4.47213595 5.47722558 6.32455532 7.07106781 7.74596669]\n",
      "[3. 4. 5. 6. 7. 7.]\n",
      "[4. 5. 6. 7. 8. 8.]\n",
      "[3. 4. 5. 6. 7. 8.]\n"
     ]
    }
   ],
   "source": [
    "# Rounding\n",
    "a = np.arange(10, 70, 10)\n",
    "a = np.sqrt(a)\n",
    "print(a)\n",
    "\n",
    "print(np.floor(a))\n",
    "print(np.ceil(a))\n",
    "print(np.rint(a))"
   ],
   "metadata": {
    "collapsed": false
   }
  },
  {
   "cell_type": "code",
   "execution_count": 91,
   "outputs": [
    {
     "name": "stdout",
     "output_type": "stream",
     "text": [
      "Array:  [3.16227766 4.47213595 5.47722558 6.32455532 7.07106781 7.74596669]\n",
      "Summ: 34.25322901483669\n",
      "Multiplication: 26832.815729997485\n",
      "Mean value: 5.708871502472782\n",
      "Dispersion: 2.4087861682541694\n",
      "Standard Deviation: 1.552026471505615\n",
      "Min element: 3.1622776601683795\n",
      "Min element index: 0\n",
      "Max element: 7.745966692414834\n",
      "Max element index: 5\n"
     ]
    }
   ],
   "source": [
    "# Math operations on array elements\n",
    "print(\"Array: \", a)\n",
    "\n",
    "print(\"Summ:\", a.sum())\n",
    "print(\"Multiplication:\", a.prod())\n",
    "\n",
    "print(\"Mean value:\", a.mean())\n",
    "print(\"Dispersion:\", a.var())\n",
    "print(\"Standard Deviation:\", a.std())\n",
    "\n",
    "print(\"Min element:\", a.min())\n",
    "print(\"Min element index:\", a.argmin())\n",
    "print(\"Max element:\", a.max())\n",
    "print(\"Max element index:\", a.argmax())"
   ],
   "metadata": {
    "collapsed": false
   }
  },
  {
   "cell_type": "code",
   "execution_count": 101,
   "outputs": [
    {
     "name": "stdout",
     "output_type": "stream",
     "text": [
      "Array: [0 1 2 3 4 5 6 7 8 9]\n",
      "Clipped array: [2 2 2 3 4 5 6 7 7 7]\n",
      "Unique elements: [2 3 4 5 6 7]\n"
     ]
    }
   ],
   "source": [
    "# Array comprehension\n",
    "a = np.arange(10)\n",
    "print(\"Array:\", a)\n",
    "\n",
    "a = a.clip(2, 7)\n",
    "print(\"Clipped array:\", a)\n",
    "print(\"Unique elements:\", np.unique(a))"
   ],
   "metadata": {
    "collapsed": false
   }
  },
  {
   "cell_type": "code",
   "execution_count": 108,
   "outputs": [
    {
     "name": "stdout",
     "output_type": "stream",
     "text": [
      "Array: [[ 5  2]\n",
      " [ 4  1]\n",
      " [ 3 -1]]\n",
      "Mean values of columns [4.         0.66666667]\n",
      "Mean values of rows [3.5 2.5 1. ]\n"
     ]
    }
   ],
   "source": [
    "# Multidimensional arrays\n",
    "a = np.array([[5, 2], [4, 1], [3, -1]], int)\n",
    "\n",
    "print(\"Array:\", a)\n",
    "print(\"Mean values of columns\", a.mean(axis=0))\n",
    "print(\"Mean values of rows\", a.mean(axis=1))"
   ],
   "metadata": {
    "collapsed": false
   }
  },
  {
   "cell_type": "code",
   "execution_count": 114,
   "outputs": [
    {
     "name": "stdout",
     "output_type": "stream",
     "text": [
      "A greater or equal than B ? [ True False False]\n"
     ]
    }
   ],
   "source": [
    "# Logical operations on arrays\n",
    "a = np.array([1, 2, 3])\n",
    "b = np.array([1, 5, 7])\n",
    "\n",
    "print(\"A greater or equal than B ?\", a >= b)"
   ],
   "metadata": {
    "collapsed": false
   }
  },
  {
   "cell_type": "code",
   "execution_count": null,
   "outputs": [],
   "source": [],
   "metadata": {
    "collapsed": false
   }
  }
 ],
 "metadata": {
  "kernelspec": {
   "display_name": "Python 3",
   "language": "python",
   "name": "python3"
  },
  "language_info": {
   "codemirror_mode": {
    "name": "ipython",
    "version": 2
   },
   "file_extension": ".py",
   "mimetype": "text/x-python",
   "name": "python",
   "nbconvert_exporter": "python",
   "pygments_lexer": "ipython2",
   "version": "2.7.6"
  }
 },
 "nbformat": 4,
 "nbformat_minor": 0
}
